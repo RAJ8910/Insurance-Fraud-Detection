{
 "cells": [
  {
   "cell_type": "code",
   "execution_count": null,
   "id": "6d1e4402-0d9f-4fb2-a06a-a5b8f8174a56",
   "metadata": {},
   "outputs": [],
   "source": [
    "import pandas as pd\n",
    "import numpy as np\n",
    "import os\n",
    "from datetime import date\n",
    "import seaborn as sns\n",
    "import matplotlib.pyplot as plt\n",
    "pd.set_option('display.max_columns', None) "
   ]
  },
  {
   "cell_type": "code",
   "execution_count": null,
   "id": "5a751b5f-5038-4de5-9554-25e7f7746995",
   "metadata": {},
   "outputs": [],
   "source": [
    "os.listdir(\"most rated\")"
   ]
  },
  {
   "cell_type": "code",
   "execution_count": null,
   "id": "93d82a31-c1a3-4999-9468-5a0eaf345f3b",
   "metadata": {},
   "outputs": [],
   "source": [
    "Train_Beneficiarydata=pd.read_csv(\"most rated/Train_Beneficiarydata-1542865627584.csv\")\n",
    "Train_Inpatientdata=pd.read_csv(\"most rated/Train_Inpatientdata-1542865627584.csv\")\n",
    "Train_Outpatientdata=pd.read_csv(\"most rated/Train_Outpatientdata-1542865627584.csv\")\n",
    "Train=pd.read_csv(\"most rated/Train-1542865627584.csv\")"
   ]
  },
  {
   "cell_type": "code",
   "execution_count": null,
   "id": "9c44eda7-362c-4959-bb55-8a5f676bbc44",
   "metadata": {},
   "outputs": [],
   "source": [
    "print(Train_Beneficiarydata.columns,f'\\nTotal values: {len(Train_Beneficiarydata)}')"
   ]
  },
  {
   "cell_type": "code",
   "execution_count": null,
   "id": "14e3b5b1-4e0f-4577-a07f-6946f43fe458",
   "metadata": {},
   "outputs": [],
   "source": [
    "print(Train_Inpatientdata.columns,f'\\nTotal values: {len(Train_Inpatientdata)}')"
   ]
  },
  {
   "cell_type": "code",
   "execution_count": null,
   "id": "23096709-109c-44c7-b4ed-3b499462c01e",
   "metadata": {},
   "outputs": [],
   "source": [
    "print(Train_Outpatientdata.columns,f'\\nTotal values: {len(Train_Outpatientdata)}')"
   ]
  },
  {
   "cell_type": "code",
   "execution_count": null,
   "id": "afc38397-1166-445c-91c8-abbc42c5b222",
   "metadata": {},
   "outputs": [],
   "source": [
    "print(Train.columns,f'\\nTotal values: {len(Train)}')"
   ]
  },
  {
   "cell_type": "markdown",
   "id": "fbd88220-4db8-40ac-8eef-7de06b62d0d8",
   "metadata": {},
   "source": [
    "### Feature Engineering"
   ]
  },
  {
   "cell_type": "code",
   "execution_count": null,
   "id": "9d570061-6a40-4133-b826-127b1f747cd3",
   "metadata": {},
   "outputs": [],
   "source": [
    "TODAY = pd.to_datetime(\"2020-12-31\")\n",
    "Train_Beneficiarydata[\"DOB\"] = pd.to_datetime(Train_Beneficiarydata[\"DOB\"])\n",
    "Train_Beneficiarydata[\"DOD\"] = pd.to_datetime(Train_Beneficiarydata[\"DOD\"], errors='coerce')\n",
    "Train_Beneficiarydata[\"Age\"] = (\n",
    "    (Train_Beneficiarydata[\"DOD\"].fillna(TODAY) - Train_Beneficiarydata[\"DOB\"])\n",
    "    .dt.days//365 \n",
    ")\n",
    "\n",
    "Train_Inpatientdata[\"ClaimStartDt\"]= pd.to_datetime(Train_Inpatientdata[\"ClaimStartDt\"])\n",
    "Train_Inpatientdata[\"ClaimEndDt\"]= pd.to_datetime(Train_Inpatientdata[\"ClaimEndDt\"])\n",
    "Train_Inpatientdata[\"ClaimPeriod\"] = (\n",
    "    (Train_Inpatientdata[\"ClaimEndDt\"] - Train_Inpatientdata[\"ClaimStartDt\"])\n",
    "    .dt.days\n",
    ")\n",
    "Train_Inpatientdata[\"AdmissionPeriod\"] = (\n",
    "    (Train_Inpatientdata[\"ClaimEndDt\"] - Train_Inpatientdata[\"ClaimStartDt\"])\n",
    "    .dt.days\n",
    ")\n",
    "\n",
    "Train_Outpatientdata[\"ClaimStartDt\"]= pd.to_datetime(Train_Outpatientdata[\"ClaimStartDt\"])\n",
    "Train_Outpatientdata[\"ClaimEndDt\"]= pd.to_datetime(Train_Outpatientdata[\"ClaimEndDt\"])\n",
    "Train_Outpatientdata[\"ClaimPeriod\"] = (\n",
    "    (Train_Outpatientdata[\"ClaimEndDt\"] - Train_Outpatientdata[\"ClaimStartDt\"])\n",
    "    .dt.days\n",
    ")\n",
    "\n",
    "\n",
    "Train_Beneficiarydata=Train_Beneficiarydata.drop(columns=['DOB','DOD'])\n",
    "Train_Inpatientdata=Train_Inpatientdata.drop(columns=['ClaimStartDt','ClaimEndDt','DischargeDt','AdmissionDt'])\n",
    "Train_Outpatientdata=Train_Outpatientdata.drop(columns=['ClaimStartDt','ClaimEndDt'])"
   ]
  },
  {
   "cell_type": "code",
   "execution_count": null,
   "id": "b9a2bbac-682c-430d-904a-64a431c37f03",
   "metadata": {},
   "outputs": [],
   "source": [
    "Train_Inpatientdata.isnull().sum()"
   ]
  },
  {
   "cell_type": "code",
   "execution_count": null,
   "id": "039d2fcb-e333-4482-b538-abc5ed6ca196",
   "metadata": {},
   "outputs": [],
   "source": [
    "Train_Outpatientdata.isnull().sum()"
   ]
  },
  {
   "cell_type": "code",
   "execution_count": null,
   "id": "14a049a9-3748-496b-bdc7-f7415f0a2e91",
   "metadata": {},
   "outputs": [],
   "source": [
    "number_cols = [f'ClmProcedureCode_{i}' for i in range(1, 7)]\n",
    "target_cols = number_cols + ['DeductibleAmtPaid']\n",
    "print(target_cols)"
   ]
  },
  {
   "cell_type": "code",
   "execution_count": null,
   "id": "69bc82e5-6cda-4dba-93d6-6a6d7945f0bf",
   "metadata": {},
   "outputs": [],
   "source": [
    "Train_Inpatientdata[target_cols] = Train_Inpatientdata[target_cols].fillna(0)\n",
    "Train_Outpatientdata[target_cols]= Train_Outpatientdata[target_cols].fillna(0)"
   ]
  },
  {
   "cell_type": "code",
   "execution_count": null,
   "id": "95320139-a867-4758-8846-4058a9b5dc5e",
   "metadata": {},
   "outputs": [],
   "source": [
    "object_cols = [f'ClmDiagnosisCode_{i}' for i in range(1, 11)] +['AttendingPhysician','OperatingPhysician','OtherPhysician']\n",
    "Train_Inpatientdata[object_cols] = Train_Inpatientdata[object_cols].fillna('0')\n",
    "Train_Outpatientdata[object_cols + ['ClmAdmitDiagnosisCode']]= Train_Outpatientdata[object_cols + ['ClmAdmitDiagnosisCode']].fillna('0')"
   ]
  },
  {
   "cell_type": "code",
   "execution_count": null,
   "id": "eef12bff-a643-4209-9134-34a790f27213",
   "metadata": {},
   "outputs": [],
   "source": [
    "print(\"Beneficiary Data:\",Train_Beneficiarydata.dtypes)\n",
    "print(\"\\nInpatient Data:\",Train_Inpatientdata.dtypes)\n",
    "print(\"\\nOutpatient Data:\",Train_Outpatientdata.dtypes)"
   ]
  },
  {
   "cell_type": "code",
   "execution_count": null,
   "id": "e8330c03-2220-49f7-8434-a3750c54137c",
   "metadata": {},
   "outputs": [],
   "source": [
    "InpatientData_merged = Train_Inpatientdata.merge(Train_Beneficiarydata, on='BeneID', how='left')\n",
    "print(f\"{len(InpatientData_merged):,}\")"
   ]
  },
  {
   "cell_type": "code",
   "execution_count": null,
   "id": "3e4c162a-7e38-42e3-ab36-79253e36601e",
   "metadata": {},
   "outputs": [],
   "source": [
    "InpatientData_merged.head()"
   ]
  },
  {
   "cell_type": "code",
   "execution_count": null,
   "id": "73a9c75e-20b5-4648-b973-ae439b8c5b0b",
   "metadata": {},
   "outputs": [],
   "source": [
    "OutpatientData_merged = Train_Outpatientdata.merge(Train_Beneficiarydata ,on='BeneID', how='left')\n",
    "print(f\"{len(OutpatientData_merged):,}\")"
   ]
  },
  {
   "cell_type": "code",
   "execution_count": null,
   "id": "237a0a32-c5d5-4969-ac7f-c8ce6594f748",
   "metadata": {},
   "outputs": [],
   "source": [
    "OutpatientData_merged.head()"
   ]
  },
  {
   "cell_type": "code",
   "execution_count": null,
   "id": "2607ae6a-f5e5-4085-813e-fea24b14b370",
   "metadata": {},
   "outputs": [],
   "source": [
    "def unique_value_distribution(df):\n",
    "    print(\"Unique value count per column:\\n\")\n",
    "    for col in df.columns:\n",
    "        unique_vals = df[col].nunique()\n",
    "        print(f\"{col}: {unique_vals} unique values\")"
   ]
  },
  {
   "cell_type": "code",
   "execution_count": null,
   "id": "0073149d-9b97-4c94-96c3-75a053ae3cd9",
   "metadata": {},
   "outputs": [],
   "source": [
    "unique_value_distribution(InpatientData_merged)\n",
    "unique_value_distribution(OutpatientData_merged)"
   ]
  },
  {
   "cell_type": "code",
   "execution_count": null,
   "id": "0ab6aecf-fedc-48a1-afe1-8408c688ea07",
   "metadata": {},
   "outputs": [],
   "source": [
    "from IPython.display import HTML, display\n",
    "\n",
    "def make_df_sticky(df):\n",
    "    \"\"\"\n",
    "    Renders a pandas DataFrame as HTML with a sticky index column.\n",
    "    \"\"\"\n",
    "    html = df.to_html()\n",
    "    css = \"\"\"\n",
    "    <style>\n",
    "        .dataframe {\n",
    "            border-collapse: collapse;\n",
    "        }\n",
    "        .dataframe th:first-child, .dataframe td:first-child {\n",
    "            position: sticky;\n",
    "            left: 0;\n",
    "            background-color: white; \n",
    "            z-index: 10;\n",
    "            border-right: 1px solid #e0e0e0; \n",
    "        }\n",
    "    </style>\n",
    "    \"\"\"\n",
    "    display(HTML(css + html))"
   ]
  },
  {
   "cell_type": "code",
   "execution_count": null,
   "id": "473dda53-6fcc-4175-9c33-d5a45a09be8b",
   "metadata": {},
   "outputs": [],
   "source": [
    "make_df_sticky(InpatientData_merged.describe())"
   ]
  },
  {
   "cell_type": "code",
   "execution_count": null,
   "id": "ca7c3b40-4ef3-4b40-94e1-bd0a039bc79c",
   "metadata": {},
   "outputs": [],
   "source": [
    "make_df_sticky(OutpatientData_merged.describe())"
   ]
  },
  {
   "cell_type": "code",
   "execution_count": null,
   "id": "fad09721-f06b-4d8d-8977-ad5acb25d7ad",
   "metadata": {},
   "outputs": [],
   "source": []
  }
 ],
 "metadata": {
  "kernelspec": {
   "display_name": "Python 3 (ipykernel)",
   "language": "python",
   "name": "python3"
  },
  "language_info": {
   "codemirror_mode": {
    "name": "ipython",
    "version": 3
   },
   "file_extension": ".py",
   "mimetype": "text/x-python",
   "name": "python",
   "nbconvert_exporter": "python",
   "pygments_lexer": "ipython3",
   "version": "3.11.7"
  }
 },
 "nbformat": 4,
 "nbformat_minor": 5
}
